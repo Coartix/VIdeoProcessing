{
 "cells": [
  {
   "cell_type": "code",
   "execution_count": 14,
   "metadata": {},
   "outputs": [],
   "source": [
    "import cv2\n",
    "import numpy as np\n",
    "import math\n",
    "import matplotlib.pyplot as plt\n",
    "import copy\n",
    "from tqdm import tqdm\n",
    "\n",
    "%matplotlib inline"
   ]
  },
  {
   "attachments": {},
   "cell_type": "markdown",
   "metadata": {},
   "source": [
    "### <p style=\"text-align: center; color: green;\">Motion Estimation Mesh based</p>  \n",
    "\n",
    "#### We are going to show the motion estimation between two images with the mesh based method seen in class that derives from the node based one.\n",
    "\n",
    "Let's recreate the Image class."
   ]
  },
  {
   "cell_type": "code",
   "execution_count": 2,
   "metadata": {},
   "outputs": [],
   "source": [
    "class Image:\n",
    "\n",
    "    def __init__(self, pathImg):\n",
    "        self.img = cv2.imread(pathImg)\n",
    "        self.grayImage = cv2.cvtColor(self.img, cv2.COLOR_BGR2GRAY)\n",
    "        self.height, self.width = self.grayImage.shape[:2]"
   ]
  },
  {
   "attachments": {},
   "cell_type": "markdown",
   "metadata": {},
   "source": [
    "Let's load the two images"
   ]
  },
  {
   "cell_type": "code",
   "execution_count": 3,
   "metadata": {},
   "outputs": [],
   "source": [
    "img1 = Image('1.png')\n",
    "img2 = Image('2.png')"
   ]
  },
  {
   "attachments": {},
   "cell_type": "markdown",
   "metadata": {},
   "source": [
    "Defining constants :"
   ]
  },
  {
   "cell_type": "code",
   "execution_count": 4,
   "metadata": {},
   "outputs": [],
   "source": [
    "BLOCK_LEN = img1.grayImage.shape[0] // 4\n",
    "STEP = 4"
   ]
  },
  {
   "attachments": {},
   "cell_type": "markdown",
   "metadata": {},
   "source": [
    "Same methods as in node based."
   ]
  },
  {
   "cell_type": "code",
   "execution_count": 5,
   "metadata": {},
   "outputs": [],
   "source": [
    "# Define the colors of the rectangles\n",
    "colors = ['red', 'blue', 'green', 'purple', 'orange', 'brown', 'pink', 'gray', 'cyan', 'white']\n",
    "\n",
    "# function returning the coordinates of the blocks from the image\n",
    "def getBlocksCoordinates(img):\n",
    "    blocksCoordinates = []\n",
    "    len = img.shape[0] // BLOCK_LEN\n",
    "    for i in range(len):\n",
    "        for j in range(len):\n",
    "            blocksCoordinates.append([[i*BLOCK_LEN, j*BLOCK_LEN], [(i+1)*BLOCK_LEN, j*BLOCK_LEN], [(i+1)*BLOCK_LEN, (j+1)*BLOCK_LEN], [i*BLOCK_LEN, (j+1)*BLOCK_LEN]])\n",
    "    return blocksCoordinates\n",
    "\n",
    "# function getting the all the coordinates inside of a block knowing its up left corner coordinates and its length\n",
    "def getBlockPixels(nodes):\n",
    "    array = []\n",
    "    for i in range(nodes[0][0], nodes[2][0], STEP):\n",
    "        for j in range(nodes[0][1], nodes[2][1], STEP):\n",
    "            array.append([i, j])\n",
    "    return array\n",
    "\n"
   ]
  },
  {
   "attachments": {},
   "cell_type": "markdown",
   "metadata": {},
   "source": [
    "Let's create a dictionnary that we will use to iterate over the nodes and that will tell us which blocks it is linked to."
   ]
  },
  {
   "cell_type": "code",
   "execution_count": 6,
   "metadata": {},
   "outputs": [],
   "source": [
    "'''\n",
    "    Function returning a dictionnary with\n",
    "        node coordinates as keys\n",
    "        list of the 4 indexes corresponding to the 4 blocks around the node\n",
    "'''\n",
    "def getNodesDict(img):\n",
    "    nodesDict = {}\n",
    "    width = img.shape[0] // BLOCK_LEN\n",
    "    height = img.shape[1] // BLOCK_LEN\n",
    "    for i in range(0, img.shape[0] + 1, BLOCK_LEN):\n",
    "        for j in range(0, img.shape[1] + 1, BLOCK_LEN):\n",
    "            indexes = []\n",
    "            if i + BLOCK_LEN <= img.shape[0] and j + BLOCK_LEN <= img.shape[1]:\n",
    "                indexes.append((i // BLOCK_LEN) * height + j // BLOCK_LEN)\n",
    "            if i - BLOCK_LEN >= 0 and j - BLOCK_LEN >= 0:\n",
    "                indexes.append((i // BLOCK_LEN - 1) * height + j // BLOCK_LEN - 1)\n",
    "            if i - BLOCK_LEN >= 0 and j + BLOCK_LEN <= img.shape[1]:\n",
    "                indexes.append((i // BLOCK_LEN - 1) * height + j // BLOCK_LEN)\n",
    "            if j - BLOCK_LEN >= 0 and i + BLOCK_LEN <= img.shape[0]:\n",
    "                indexes.append((i // BLOCK_LEN) * height + j // BLOCK_LEN - 1)\n",
    "\n",
    "            nodesDict[(i, j)] = indexes\n",
    "    return nodesDict"
   ]
  },
  {
   "attachments": {},
   "cell_type": "markdown",
   "metadata": {},
   "source": [
    "Now we rewrite the code defined in node based that will handle the computing of the energy for the blocks :"
   ]
  },
  {
   "cell_type": "code",
   "execution_count": 7,
   "metadata": {},
   "outputs": [],
   "source": [
    "def getInterpolation(corners):\n",
    "    list_x = [corners[0][0], corners[1][0], corners[2][0], corners[3][0]]\n",
    "    list_y = [corners[0][1], corners[1][1], corners[2][1], corners[3][1]]\n",
    "\n",
    "    xmax, xmin, ymax, ymin = max(list_x), min(list_x), max(list_y), min(list_y)\n",
    "    constant = (xmax-xmin)*(ymax-ymin)\n",
    "\n",
    "    phi1 = lambda x,y : (xmax-x)*(ymax-y)/constant\n",
    "    phi2 = lambda x,y : (x-xmin)*(ymax-y)/constant\n",
    "    phi3 = lambda x,y : (x-xmin)*(y-ymin)/constant\n",
    "    phi4 = lambda x,y : (xmax-x)*(y-ymin)/constant\n",
    "\n",
    "    return phi1, phi2, phi3, phi4\n",
    "\n",
    "def getDisplacement(corners, vectors):\n",
    "    phi1, phi2, phi3, phi4 = getInterpolation(corners)\n",
    "    sum = lambda x,y : phi1(x,y) * vectors[0] + phi2(x,y) * vectors[1] + phi3(x,y) * vectors[2] + phi4(x,y) * vectors[3]\n",
    "    return sum\n",
    "\n",
    "# function getting the intensity of a point in an image\n",
    "def getIntensity(img, coordinate):\n",
    "    return img[int(coordinate[0]), int(coordinate[1])]\n",
    "\n",
    "# function computing the sum of quadratic displacement in a node between two images\n",
    "def computeEnergyBlock(img1, img2, block, d):\n",
    "    EDFD = 0\n",
    "    for coordinate in getBlockPixels(block):\n",
    "        newCoordinate = coordinate + d(coordinate[0], coordinate[1])\n",
    "\n",
    "        newCoordinate[0] = max(0, min(int(newCoordinate[0]), img1.shape[0]-1))\n",
    "        newCoordinate[1] = max(0, min(int(newCoordinate[1]), img1.shape[1]-1))\n",
    "\n",
    "        I2 = getIntensity(img2, newCoordinate)\n",
    "        I1 = getIntensity(img1, coordinate)\n",
    "        if I2 < I1:\n",
    "            EDFD += (I1 - I2) ** 2\n",
    "        else:\n",
    "            EDFD += (I2 - I1) ** 2\n",
    "    return EDFD"
   ]
  },
  {
   "attachments": {},
   "cell_type": "markdown",
   "metadata": {},
   "source": [
    "We will just have to rewrite `getNodesDisplacement` a bit, and add a method to link the nodes we are iterating over with the nodes inside the circling blocks :"
   ]
  },
  {
   "cell_type": "code",
   "execution_count": 12,
   "metadata": {},
   "outputs": [],
   "source": [
    "# Method to update the nodes contained in blockVectors associated with indNode with the new value\n",
    "def changeBlockNodeValue(indNode, blockVectors, idxsBlocks, value, axis, img1):\n",
    "    copyBlockVectors = blockVectors.copy()\n",
    "    len = img1.shape[0] // BLOCK_LEN\n",
    "    for idxBlock in idxsBlocks:\n",
    "        if idxBlock == indNode - idxBlock // len:\n",
    "            copyBlockVectors[idxBlock][0][axis] += value\n",
    "        if idxBlock == indNode - idxBlock // len - 1:\n",
    "            copyBlockVectors[idxBlock][3][axis] += value\n",
    "        if idxBlock == indNode - idxBlock // len - len - 1:\n",
    "            copyBlockVectors[idxBlock][1][axis] += value\n",
    "        if idxBlock == indNode - idxBlock // len - len - 2:\n",
    "            copyBlockVectors[idxBlock][2][axis] += value\n",
    "    return copyBlockVectors\n",
    "\n",
    "\n",
    "# Function iterating through all nodes of an image,\n",
    "# computing the gradient descent of each node and returning a list of all the vectors\n",
    "def getNodesDisplacement(img1, img2, learningRate=1e-4, nbEpochs=5, h=2):\n",
    "    blocks = getBlocksCoordinates(img1)\n",
    "    nodesDict = getNodesDict(img1)\n",
    "    nodes = list(nodesDict.keys())\n",
    "\n",
    "    blockVectors = np.zeros((len(blocks), 4, 2))\n",
    "    \n",
    "    for epoch in tqdm(range(0,nbEpochs)):\n",
    "        print(\"Epoch:\", epoch + 1)\n",
    "        for indNode, node in enumerate(nodes):\n",
    "            energy = 0\n",
    "            for idxBlock in nodesDict[node]:\n",
    "                blockVector = blockVectors[idxBlock]\n",
    "                block = blocks[idxBlock]\n",
    "\n",
    "                d = getDisplacement(block, blockVector)\n",
    "                energy += computeEnergyBlock(img1, img2, block, d)\n",
    "            \n",
    "            tmp_blockVectors = copy.deepcopy(blockVectors)\n",
    "            for i in range(2):\n",
    "                copy_tmp_blockVectors = changeBlockNodeValue(indNode, tmp_blockVectors, nodesDict[node], h, i, img1)\n",
    "                newEnergy = 0\n",
    "                for idxBlock in nodesDict[node]:\n",
    "                    copy_tmp_blockVector = copy_tmp_blockVectors[idxBlock].copy()\n",
    "                    copy_tmp_block = blocks[idxBlock]\n",
    "\n",
    "                    d = getDisplacement(copy_tmp_block, copy_tmp_blockVector)\n",
    "                    newEnergy += computeEnergyBlock(img1, img2, copy_tmp_block, d)\n",
    "                blockVectors = changeBlockNodeValue(indNode, blockVectors, nodesDict[node], -learningRate * (newEnergy - energy) / h, i, img1)  \n",
    "    return blocks + blockVectors"
   ]
  },
  {
   "cell_type": "code",
   "execution_count": 15,
   "metadata": {},
   "outputs": [
    {
     "name": "stderr",
     "output_type": "stream",
     "text": [
      "  0%|          | 0/5 [00:00<?, ?it/s]"
     ]
    },
    {
     "name": "stdout",
     "output_type": "stream",
     "text": [
      "Epoch: 1\n"
     ]
    },
    {
     "name": "stderr",
     "output_type": "stream",
     "text": [
      "  0%|          | 0/5 [00:03<?, ?it/s]\n"
     ]
    },
    {
     "ename": "KeyboardInterrupt",
     "evalue": "",
     "output_type": "error",
     "traceback": [
      "\u001b[0;31m---------------------------------------------------------------------------\u001b[0m",
      "\u001b[0;31mKeyboardInterrupt\u001b[0m                         Traceback (most recent call last)",
      "Cell \u001b[0;32mIn[15], line 1\u001b[0m\n\u001b[0;32m----> 1\u001b[0m allNodes \u001b[39m=\u001b[39m getNodesDisplacement(img1\u001b[39m.\u001b[39;49mgrayImage, img2\u001b[39m.\u001b[39;49mgrayImage)\n\u001b[1;32m      3\u001b[0m \u001b[39m# Create a figure and axis object\u001b[39;00m\n\u001b[1;32m      4\u001b[0m fig, ax \u001b[39m=\u001b[39m plt\u001b[39m.\u001b[39msubplots(\u001b[39m1\u001b[39m, figsize\u001b[39m=\u001b[39m(\u001b[39m8\u001b[39m, \u001b[39m8\u001b[39m))\n",
      "Cell \u001b[0;32mIn[12], line 35\u001b[0m, in \u001b[0;36mgetNodesDisplacement\u001b[0;34m(img1, img2, learningRate, nbEpochs, h)\u001b[0m\n\u001b[1;32m     32\u001b[0m     block \u001b[39m=\u001b[39m blocks[idxBlock]\n\u001b[1;32m     34\u001b[0m     d \u001b[39m=\u001b[39m getDisplacement(block, blockVector)\n\u001b[0;32m---> 35\u001b[0m     energy \u001b[39m+\u001b[39m\u001b[39m=\u001b[39m computeEnergyBlock(img1, img2, block, d)\n\u001b[1;32m     37\u001b[0m tmp_blockVectors \u001b[39m=\u001b[39m copy\u001b[39m.\u001b[39mdeepcopy(blockVectors)\n\u001b[1;32m     38\u001b[0m \u001b[39mfor\u001b[39;00m i \u001b[39min\u001b[39;00m \u001b[39mrange\u001b[39m(\u001b[39m2\u001b[39m):\n",
      "Cell \u001b[0;32mIn[7], line 30\u001b[0m, in \u001b[0;36mcomputeEnergyBlock\u001b[0;34m(img1, img2, block, d)\u001b[0m\n\u001b[1;32m     27\u001b[0m \u001b[39mfor\u001b[39;00m coordinate \u001b[39min\u001b[39;00m getBlockPixels(block):\n\u001b[1;32m     28\u001b[0m     newCoordinate \u001b[39m=\u001b[39m coordinate \u001b[39m+\u001b[39m d(coordinate[\u001b[39m0\u001b[39m], coordinate[\u001b[39m1\u001b[39m])\n\u001b[0;32m---> 30\u001b[0m     newCoordinate[\u001b[39m0\u001b[39m] \u001b[39m=\u001b[39m \u001b[39mmax\u001b[39m(\u001b[39m0\u001b[39m, \u001b[39mmin\u001b[39m(\u001b[39mint\u001b[39;49m(newCoordinate[\u001b[39m0\u001b[39;49m]), img1\u001b[39m.\u001b[39mshape[\u001b[39m0\u001b[39m]\u001b[39m-\u001b[39m\u001b[39m1\u001b[39m))\n\u001b[1;32m     31\u001b[0m     newCoordinate[\u001b[39m1\u001b[39m] \u001b[39m=\u001b[39m \u001b[39mmax\u001b[39m(\u001b[39m0\u001b[39m, \u001b[39mmin\u001b[39m(\u001b[39mint\u001b[39m(newCoordinate[\u001b[39m1\u001b[39m]), img1\u001b[39m.\u001b[39mshape[\u001b[39m1\u001b[39m]\u001b[39m-\u001b[39m\u001b[39m1\u001b[39m))\n\u001b[1;32m     33\u001b[0m     I2 \u001b[39m=\u001b[39m getIntensity(img2, newCoordinate)\n",
      "\u001b[0;31mKeyboardInterrupt\u001b[0m: "
     ]
    }
   ],
   "source": [
    "allNodes = getNodesDisplacement(img1.grayImage, img2.grayImage)\n",
    "\n",
    "# Create a figure and axis object\n",
    "fig, ax = plt.subplots(1, figsize=(8, 8))\n",
    "ax.imshow(img1.grayImage, cmap='gray')\n",
    "\n",
    "# Plot the polygons\n",
    "for i in range(len(allNodes)):\n",
    "    node = plt.Polygon(allNodes[i], fill=False, edgecolor=colors[i % len(colors)], linewidth=1.5)\n",
    "    ax.add_patch(node)\n",
    "\n",
    "# Set the limits of the plot\n",
    "ax.set_xlim(0, img1.width)\n",
    "ax.set_ylim(img1.height, 0)\n",
    "\n",
    "plt.show()"
   ]
  },
  {
   "attachments": {},
   "cell_type": "markdown",
   "metadata": {},
   "source": [
    "Now we can clearly see that the center of the first image is being enlarged when going to the second one. Now each node is attached to their respective blocks and are moving accordingly to the position where the blocks have the minimum energy."
   ]
  }
 ],
 "metadata": {
  "kernelspec": {
   "display_name": "Python 3 (ipykernel)",
   "language": "python",
   "name": "python3"
  },
  "language_info": {
   "codemirror_mode": {
    "name": "ipython",
    "version": 3
   },
   "file_extension": ".py",
   "mimetype": "text/x-python",
   "name": "python",
   "nbconvert_exporter": "python",
   "pygments_lexer": "ipython3",
   "version": "3.10.6"
  }
 },
 "nbformat": 4,
 "nbformat_minor": 2
}
