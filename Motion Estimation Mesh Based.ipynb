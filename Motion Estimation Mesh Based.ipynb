{
 "cells": [
  {
   "cell_type": "code",
   "execution_count": 1,
   "metadata": {},
   "outputs": [],
   "source": [
    "import cv2\n",
    "import numpy as np\n",
    "import math\n",
    "import matplotlib.pyplot as plt\n",
    "import copy\n",
    "\n",
    "%matplotlib inline"
   ]
  },
  {
   "cell_type": "markdown",
   "metadata": {},
   "source": [
    "### <p style=\"text-align: center; color: green;\">Motion Estimation Mesh based</p>  \n",
    "\n",
    "#### We are going to show the motion estimation between two images with the mesh based method seen in class that derives from the node based one.\n",
    "\n",
    "Let's recreate the Image class."
   ]
  },
  {
   "cell_type": "code",
   "execution_count": 2,
   "metadata": {},
   "outputs": [],
   "source": [
    "class Image:\n",
    "\n",
    "    def __init__(self, pathImg):\n",
    "        self.img = cv2.imread(pathImg)\n",
    "        self.grayImage = cv2.cvtColor(self.img, cv2.COLOR_BGR2GRAY)\n",
    "        self.height, self.width = self.grayImage.shape[:2]"
   ]
  },
  {
   "cell_type": "markdown",
   "metadata": {},
   "source": [
    "Let's load the two images"
   ]
  },
  {
   "cell_type": "code",
   "execution_count": 3,
   "metadata": {},
   "outputs": [],
   "source": [
    "img1 = Image('1.png')\n",
    "img2 = Image('2.png')"
   ]
  },
  {
   "cell_type": "markdown",
   "metadata": {},
   "source": [
    "Defining constants :"
   ]
  },
  {
   "cell_type": "code",
   "execution_count": 4,
   "metadata": {},
   "outputs": [],
   "source": [
    "BLOCK_LEN = img1.grayImage.shape[0] // 4\n",
    "STEP = 4"
   ]
  },
  {
   "cell_type": "markdown",
   "metadata": {},
   "source": [
    "Same methods as in node based."
   ]
  },
  {
   "cell_type": "code",
   "execution_count": 5,
   "metadata": {},
   "outputs": [],
   "source": [
    "# Define the colors of the rectangles\n",
    "colors = ['red', 'blue', 'green', 'purple', 'orange', 'brown', 'pink', 'gray', 'cyan', 'white']\n",
    "\n",
    "# function returning the coordinates of the blocks from the image\n",
    "def getBlocksCoordinates(img):\n",
    "    blocksCoordinates = []\n",
    "    len = img.shape[0] // BLOCK_LEN\n",
    "    for i in range(len):\n",
    "        for j in range(len):\n",
    "            blocksCoordinates.append([[i*BLOCK_LEN, j*BLOCK_LEN], [(i+1)*BLOCK_LEN, j*BLOCK_LEN], [(i+1)*BLOCK_LEN, (j+1)*BLOCK_LEN], [i*BLOCK_LEN, (j+1)*BLOCK_LEN]])\n",
    "    return blocksCoordinates\n",
    "\n",
    "# function getting the all the coordinates inside of a block knowing its up left corner coordinates and its length\n",
    "def getBlockPixels(nodes):\n",
    "    array = []\n",
    "    for i in range(nodes[0][0], nodes[2][0], STEP):\n",
    "        for j in range(nodes[0][1], nodes[2][1], STEP):\n",
    "            array.append([i, j])\n",
    "    return array\n",
    "\n"
   ]
  },
  {
   "cell_type": "markdown",
   "metadata": {},
   "source": [
    "Let's create a dictionnary that we will use to iterate over the nodes and that will tell us which blocks it is linked to."
   ]
  },
  {
   "cell_type": "code",
   "execution_count": 6,
   "metadata": {},
   "outputs": [],
   "source": [
    "'''\n",
    "    Function returning a dictionnary with\n",
    "        node coordinates as keys\n",
    "        list of the 4 indexes corresponding to the 4 blocks around the node\n",
    "'''\n",
    "def getNodesDict(img):\n",
    "    nodesDict = {}\n",
    "    width = img.shape[0] // BLOCK_LEN\n",
    "    height = img.shape[1] // BLOCK_LEN\n",
    "    for i in range(0, img.shape[0] + 1, BLOCK_LEN):\n",
    "        for j in range(0, img.shape[1] + 1, BLOCK_LEN):\n",
    "            indexes = []\n",
    "            if i + BLOCK_LEN <= img.shape[0] and j + BLOCK_LEN <= img.shape[1]:\n",
    "                indexes.append((i // BLOCK_LEN) * height + j // BLOCK_LEN)\n",
    "            if i - BLOCK_LEN >= 0 and j - BLOCK_LEN >= 0:\n",
    "                indexes.append((i // BLOCK_LEN - 1) * height + j // BLOCK_LEN - 1)\n",
    "            if i - BLOCK_LEN >= 0 and j + BLOCK_LEN <= img.shape[1]:\n",
    "                indexes.append((i // BLOCK_LEN - 1) * height + j // BLOCK_LEN)\n",
    "            if j - BLOCK_LEN >= 0 and i + BLOCK_LEN <= img.shape[0]:\n",
    "                indexes.append((i // BLOCK_LEN) * height + j // BLOCK_LEN - 1)\n",
    "\n",
    "            nodesDict[(i, j)] = indexes\n",
    "    return nodesDict"
   ]
  },
  {
   "cell_type": "markdown",
   "metadata": {},
   "source": [
    "Now we rewrite the code defined in node based that will handle the computing of the energy for the blocks :"
   ]
  },
  {
   "cell_type": "code",
   "execution_count": 8,
   "metadata": {},
   "outputs": [],
   "source": [
    "def getInterpolation(corners):\n",
    "    list_x = [corners[0][0], corners[1][0], corners[2][0], corners[3][0]]\n",
    "    list_y = [corners[0][1], corners[1][1], corners[2][1], corners[3][1]]\n",
    "\n",
    "    xmax, xmin, ymax, ymin = max(list_x), min(list_x), max(list_y), min(list_y)\n",
    "    constant = (xmax-xmin)*(ymax-ymin)\n",
    "\n",
    "    phi1 = lambda x,y : (xmax-x)*(ymax-y)/constant\n",
    "    phi2 = lambda x,y : (x-xmin)*(ymax-y)/constant\n",
    "    phi3 = lambda x,y : (x-xmin)*(y-ymin)/constant\n",
    "    phi4 = lambda x,y : (xmax-x)*(y-ymin)/constant\n",
    "\n",
    "    return phi1, phi2, phi3, phi4\n",
    "\n",
    "def getDisplacement(corners, vectors):\n",
    "    phi1, phi2, phi3, phi4 = getInterpolation(corners)\n",
    "    sum = lambda x,y : phi1(x,y) * vectors[0] + phi2(x,y) * vectors[1] + phi3(x,y) * vectors[2] + phi4(x,y) * vectors[3]\n",
    "    return sum\n",
    "\n",
    "# function getting the intensity of a point in an image\n",
    "def getIntensity(img, coordinate):\n",
    "    return img[int(coordinate[0]), int(coordinate[1])]\n",
    "\n",
    "# function computing the sum of quadratic displacement in a node between two images\n",
    "def computeEnergyBlock(img1, img2, block, d):\n",
    "    EDFD = 0\n",
    "    for coordinate in getBlockPixels(block):\n",
    "        newCoordinate = coordinate + d(coordinate[0], coordinate[1])\n",
    "\n",
    "        newCoordinate[0] = max(0, min(int(newCoordinate[0]), img1.shape[0]-1))\n",
    "        newCoordinate[1] = max(0, min(int(newCoordinate[1]), img1.shape[1]-1))\n",
    "\n",
    "        I2 = getIntensity(img2, newCoordinate)\n",
    "        I1 = getIntensity(img1, coordinate)\n",
    "        if I2 < I1:\n",
    "            EDFD += (I1 - I2) ** 2\n",
    "        else:\n",
    "            EDFD += (I2 - I1) ** 2\n",
    "    return EDFD"
   ]
  },
  {
   "cell_type": "markdown",
   "metadata": {},
   "source": [
    "We will just have to rewrite `getNodesDisplacement` a bit, and add a method to link the nodes we are iterating over with the nodes inside the circling blocks :"
   ]
  },
  {
   "cell_type": "code",
   "execution_count": 48,
   "metadata": {},
   "outputs": [],
   "source": [
    "# Method to update the nodes contained in blockVectors associated with indNode with the new value\n",
    "def changeBlockNodeValue(indNode, blockVectors, idxsBlocks, value, axis, img1):\n",
    "    copyBlockVectors = blockVectors.copy()\n",
    "    len = img1.shape[0] // BLOCK_LEN\n",
    "    for idxBlock in idxsBlocks:\n",
    "        if idxBlock == indNode - idxBlock // len:\n",
    "            copyBlockVectors[idxBlock][0][axis] += value\n",
    "        if idxBlock == indNode - idxBlock // len - 1:\n",
    "            copyBlockVectors[idxBlock][3][axis] += value\n",
    "        if idxBlock == indNode - idxBlock // len - len - 1:\n",
    "            copyBlockVectors[idxBlock][1][axis] += value\n",
    "        if idxBlock == indNode - idxBlock // len - len - 2:\n",
    "            copyBlockVectors[idxBlock][2][axis] += value\n",
    "    return copyBlockVectors\n",
    "\n",
    "\n",
    "# Function iterating through all nodes of an image,\n",
    "# computing the gradient descent of each node and returning a list of all the vectors\n",
    "def getNodesDisplacement(img1, img2, learningRate=1e-4, nbEpochs=5, h=2):\n",
    "    blocks = getBlocksCoordinates(img1)\n",
    "    nodesDict = getNodesDict(img1)\n",
    "    nodes = list(nodesDict.keys())\n",
    "\n",
    "    blockVectors = np.zeros((len(blocks), 4, 2))\n",
    "    \n",
    "    for epoch in range(nbEpochs):\n",
    "        print(\"Epoch:\", epoch + 1)\n",
    "        for indNode, node in enumerate(nodes):\n",
    "            energy = 0\n",
    "            for idxBlock in nodesDict[node]:\n",
    "                blockVector = blockVectors[idxBlock]\n",
    "                block = blocks[idxBlock]\n",
    "\n",
    "                d = getDisplacement(block, blockVector)\n",
    "                energy += computeEnergyBlock(img1, img2, block, d)\n",
    "            \n",
    "            tmp_blockVectors = copy.deepcopy(blockVectors)\n",
    "            for i in range(2):\n",
    "                copy_tmp_blockVectors = changeBlockNodeValue(indNode, tmp_blockVectors, nodesDict[node], h, i, img1)\n",
    "                newEnergy = 0\n",
    "                for idxBlock in nodesDict[node]:\n",
    "                    copy_tmp_blockVector = copy_tmp_blockVectors[idxBlock].copy()\n",
    "                    copy_tmp_block = blocks[idxBlock]\n",
    "\n",
    "                    d = getDisplacement(copy_tmp_block, copy_tmp_blockVector)\n",
    "                    newEnergy += computeEnergyBlock(img1, img2, copy_tmp_block, d)\n",
    "                blockVectors = changeBlockNodeValue(indNode, blockVectors, nodesDict[node], -learningRate * (newEnergy - energy) / h, i, img1)  \n",
    "    return blocks + blockVectors"
   ]
  },
  {
   "cell_type": "code",
   "execution_count": 49,
   "metadata": {},
   "outputs": [
    {
     "name": "stdout",
     "output_type": "stream",
     "text": [
      "Epoch: 1\n",
      "Epoch: 2\n",
      "Epoch: 3\n",
      "Epoch: 4\n",
      "Epoch: 5\n"
     ]
    },
    {
     "data": {
      "image/png": "[encoded data removed]",
      "text/plain": [
       "<Figure size 800x800 with 1 Axes>"
      ]
     },
     "metadata": {},
     "output_type": "display_data"
    }
   ],
   "source": [
    "allNodes = getNodesDisplacement(img1.grayImage, img2.grayImage)\n",
    "\n",
    "# Create a figure and axis object\n",
    "fig, ax = plt.subplots(1, figsize=(8, 8))\n",
    "ax.imshow(img1.grayImage, cmap='gray')\n",
    "\n",
    "# Plot the polygons\n",
    "for i in range(len(allNodes)):\n",
    "    node = plt.Polygon(allNodes[i], fill=False, edgecolor=colors[i % len(colors)], linewidth=1.5)\n",
    "    ax.add_patch(node)\n",
    "\n",
    "# Set the limits of the plot\n",
    "ax.set_xlim(0, img1.width)\n",
    "ax.set_ylim(img1.height, 0)\n",
    "\n",
    "plt.show()"
   ]
  },
  {
   "cell_type": "markdown",
   "metadata": {},
   "source": [
    "Now we can clearly see that the center of the first image is being enlarged when going to the second one. Now each node is attached to their respective blocks and are moving accordingly to the position where the blocks have the minimum energy."
   ]
  }
 ],
 "metadata": {
  "kernelspec": {
   "display_name": "Python 3 (ipykernel)",
   "language": "python",
   "name": "python3"
  },
  "language_info": {
   "codemirror_mode": {
    "name": "ipython",
    "version": 3
   },
   "file_extension": ".py",
   "mimetype": "text/x-python",
   "name": "python",
   "nbconvert_exporter": "python",
   "pygments_lexer": "ipython3",
   "version": "3.10.6"
  }
 },
 "nbformat": 4,
 "nbformat_minor": 2
}
